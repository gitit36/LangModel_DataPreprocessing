{
 "cells": [
  {
   "cell_type": "code",
   "execution_count": 71,
   "id": "170cbd21",
   "metadata": {},
   "outputs": [
    {
     "name": "stdout",
     "output_type": "stream",
     "text": [
      "Parsing completed.\n"
     ]
    }
   ],
   "source": [
    "import csv\n",
    "\n",
    "logg = r'C:\\Users\\dh\\Desktop\\상진\\parse_ontol_log\\log.txt'\n",
    "csvv = r'C:\\Users\\dh\\Desktop\\상진\\BTC.csv'\n",
    "new_csvv = r'C:\\Users\\dh\\Desktop\\상진\\BTC_new.csv'\n",
    "\n",
    "\n",
    "# Open the log file and the csv file\n",
    "log_file = open(logg, \"r\", encoding='utf-8')\n",
    "\n",
    "with open(csvv, encoding='utf-8') as csv_file:\n",
    "    reader = csv.DictReader(csv_file)\n",
    "    csv_data = list(reader)\n",
    "\n",
    "# Read the log file into a list of entries\n",
    "entries = log_file.read().split(\"================================\")\n",
    "last_entry = entries[-1].split(\"\\n\")[:-4]\n",
    "entries[-1] = '\\n'.join(last_entry)\n",
    "\n",
    "# Create a dictionary to store the data from the log file\n",
    "log_data = {}\n",
    "\n",
    "# Loop through the entries in the log file\n",
    "for entry in entries[1:]:\n",
    "    lines = entry.strip().split(\"\\n\")\n",
    "    lines = [''.join(i.split(\"N A  M E: \")[1]) for i in lines if i.startswith(\"N A  M E\")] +  [''.join(i.split(\"KO_human: \")[1]) for i in lines if i.startswith(\"KO_human\")]\n",
    "    name, ko_human = lines[0], lines[1]\n",
    "    log_data[name] = ko_human\n",
    "\n",
    "\n",
    "# Loop through the rows in the csv file\n",
    "for row in csv_data:\n",
    "    # Get the name value from the row\n",
    "    name = row['name']\n",
    "    # Check if the name exists in the log data dictionary\n",
    "    if name in log_data:\n",
    "        # If it exists, update the \"해석\" column with the ko_human value from the dictionary\n",
    "        row['해석'] = log_data[name]\n",
    "\n",
    "        \n",
    "# Write the updated rows to a new csv file\n",
    "with open(new_csvv, \"w\", newline='', encoding='utf-8') as updated_csv:\n",
    "    writer = csv.DictWriter(updated_csv, fieldnames=csv_data[0].keys())\n",
    "    writer.writeheader()\n",
    "    writer.writerows(csv_data)\n",
    "\n",
    "# Close the log file and the csv file\n",
    "log_file.close()\n",
    "csv_file.close()\n",
    "\n",
    "print(\"Parsing completed.\")"
   ]
  }
 ],
 "metadata": {
  "kernelspec": {
   "display_name": "Python 3 (ipykernel)",
   "language": "python",
   "name": "python3"
  },
  "language_info": {
   "codemirror_mode": {
    "name": "ipython",
    "version": 3
   },
   "file_extension": ".py",
   "mimetype": "text/x-python",
   "name": "python",
   "nbconvert_exporter": "python",
   "pygments_lexer": "ipython3",
   "version": "3.9.12"
  }
 },
 "nbformat": 4,
 "nbformat_minor": 5
}
